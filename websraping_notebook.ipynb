{
 "cells": [
  {
   "cell_type": "code",
   "execution_count": 1,
   "id": "666d7dc7-6ec2-4f88-b7d6-53971ca92980",
   "metadata": {
    "ExecuteTime": {
     "end_time": "2023-08-24T20:22:38.371735100Z",
     "start_time": "2023-08-24T20:22:35.758093500Z"
    }
   },
   "outputs": [],
   "source": [
    "import pandas as pd"
   ]
  },
  {
   "cell_type": "code",
   "execution_count": 3,
   "id": "cd9458e7-128f-49b4-bf6b-e666d89f85af",
   "metadata": {
    "ExecuteTime": {
     "end_time": "2023-08-24T20:22:41.884023300Z",
     "start_time": "2023-08-24T20:22:38.201009500Z"
    }
   },
   "outputs": [
    {
     "name": "stdout",
     "output_type": "stream",
     "text": [
      "                                                    0   1\n",
      "0                                     Bank of America NaN\n",
      "1                       Pentagon Federal Credit Un... NaN\n",
      "2                                             Carvana NaN\n",
      "3                                         LightStream NaN\n",
      "4                                         LendingTree NaN\n",
      "5                                 Auto Credit Express NaN\n",
      "6                                     Bank of America NaN\n",
      "7                       Pentagon Federal Credit Un... NaN\n",
      "8                                             Carvana NaN\n",
      "9                                         LightStream NaN\n",
      "10                                        LendingTree NaN\n",
      "11                                Auto Credit Express NaN\n",
      "12                                    Bank of America NaN\n",
      "13                      Pentagon Federal Credit Un... NaN\n",
      "14                                            Carvana NaN\n"
     ]
    }
   ],
   "source": [
    "names = pd.read_csv(\"export_names.csv\", header = None )\n",
    "print(names.head(15))"
   ]
  },
  {
   "cell_type": "code",
   "execution_count": 7,
   "id": "017b62fd",
   "metadata": {},
   "outputs": [
    {
     "name": "stdout",
     "output_type": "stream",
     "text": [
      "                                                    0   1\n",
      "3                                         LightStream NaN\n",
      "4                                         LendingTree NaN\n",
      "5                                 Auto Credit Express NaN\n",
      "6                                     Bank of America NaN\n",
      "7                       Pentagon Federal Credit Un... NaN\n",
      "8                                             Carvana NaN\n",
      "9                                         LightStream NaN\n",
      "10                                        LendingTree NaN\n"
     ]
    }
   ],
   "source": [
    "names = names[:11]\n",
    "print(names)"
   ]
  },
  {
   "cell_type": "code",
   "execution_count": null,
   "id": "72066e97",
   "metadata": {},
   "outputs": [],
   "source": []
  }
 ],
 "metadata": {
  "kernelspec": {
   "display_name": "Python 3 (ipykernel)",
   "language": "python",
   "name": "python3"
  },
  "language_info": {
   "codemirror_mode": {
    "name": "ipython",
    "version": 3
   },
   "file_extension": ".py",
   "mimetype": "text/x-python",
   "name": "python",
   "nbconvert_exporter": "python",
   "pygments_lexer": "ipython3",
   "version": "3.10.9"
  }
 },
 "nbformat": 4,
 "nbformat_minor": 5
}
