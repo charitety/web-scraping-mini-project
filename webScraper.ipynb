{
 "cells": [
  {
   "cell_type": "code",
   "execution_count": 1,
   "metadata": {},
   "outputs": [],
   "source": [
    "from bs4 import BeautifulSoup\n",
    "import requests, csv\n",
    "\n",
    "HEADERS ={\n",
    "    'User-Agent' : ('Mozilla/5.0 (Windows NT 10.0; Win64; x64)' 'AppleWebKit/537.36 (KHTML, like Gecko)'\n",
    "                        'Chrome/116.0.0.0 Safari/537.36'),\n",
    "    'Accept-Language': 'en-US, en;q=0.5'\n",
    "}\n",
    "\n",
    "url = 'https://www.consumeraffairs.com/finance/banks.htm'\n",
    "response = requests.get(url, headers=HEADERS)\n",
    "\n",
    "soup = BeautifulSoup(response.text, 'html.parser')\n",
    "# bankContainers = soup.findAll(\"article\", attrs={\"class\":\"brnd-crd-v2\"})\n",
    "# bankContainers = soup.findAll(\"div\", attrs={\"class\":\"dynmc-tb__fltr-grp-lbl ca-form__checkbox-label ca-form__checkbox-label--blue-sm\"})\n",
    "banks = soup.findAll(\"a\", attrs={\"class\":\"ca-a ca-a--bld-no-undln brd-card__tit-nm js-gadatalayer\"})\n",
    "\n",
    "with open('banks.csv', 'w', newline='', encoding='utf-8') as file:\n",
    "    writer = csv.writer(file)\n",
    "    writer.writerow(['Bank Name'])\n",
    "    \n",
    "    for bank in banks:\n",
    "        bankName = bank.text.strip()\n",
    "        # rating = container.findAll(\"span\", attrs={\"class\":\"rvws-strs-rtng-v2__rtng\"}).txt.strip()\n",
    "        writer.writerow([bankName])\n",
    "        # writer.writerow([bankName,rating])\n",
    "\n",
    "\n"
   ]
  },
  {
   "cell_type": "code",
   "execution_count": null,
   "metadata": {},
   "outputs": [],
   "source": []
  }
 ],
 "metadata": {
  "kernelspec": {
   "display_name": "Python 3",
   "language": "python",
   "name": "python3"
  },
  "language_info": {
   "codemirror_mode": {
    "name": "ipython",
    "version": 3
   },
   "file_extension": ".py",
   "mimetype": "text/x-python",
   "name": "python",
   "nbconvert_exporter": "python",
   "pygments_lexer": "ipython3",
   "version": "3.11.3"
  },
  "orig_nbformat": 4
 },
 "nbformat": 4,
 "nbformat_minor": 2
}
